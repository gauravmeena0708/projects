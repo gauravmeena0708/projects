{
 "cells": [
  {
   "cell_type": "code",
   "execution_count": 24,
   "id": "f5819841",
   "metadata": {},
   "outputs": [
    {
     "data": {
      "text/plain": [
       "\"wdFormatPDF = 17 # Word's numeric code for PDFs.\\nwordObj = win32com.client.Dispatch('Word.Application')\\ndocObj = wordObj.Documents.Open(fulldocpath)\\ndocObj.SaveAs(fullpdfpath, FileFormat=wdFormatPDF)\\ndocObj.Close()\\nwordObj.Quit()\""
      ]
     },
     "execution_count": 24,
     "metadata": {},
     "output_type": "execute_result"
    }
   ],
   "source": [
    "from docx import Document\n",
    "from docx.shared import Inches\n",
    "from docx.enum.text import WD_ALIGN_PARAGRAPH\n",
    "from pathlib import Path\n",
    "import pandas as pd\n",
    "\n",
    "PATH = os.path.abspath(os.path.join(\".\", os.pardir))\n",
    "DATA_DIR = PATH+\"\\\\data\\\\\"\n",
    "\n",
    "\n",
    "document = Document()\n",
    "\n",
    "\n",
    "#Page 1\n",
    "logo = document.add_picture(DATA_DIR+'EPFO_Logo.png', width=Inches(1.25))\n",
    "last_paragraph = document.paragraphs[-1] \n",
    "last_paragraph.alignment = WD_ALIGN_PARAGRAPH.CENTER\n",
    "title = document.add_heading('Regional Office, KR Puram', 0)\n",
    "title.alignment = WD_ALIGN_PARAGRAPH.CENTER\n",
    "\n",
    "df_para_list= pd.read_csv(DATA_DIR+\"paras.csv\")\n",
    "for x in df_para_list['title']:\n",
    "    para = document.add_paragraph(x)\n",
    "    para.alignment = WD_ALIGN_PARAGRAPH.JUSTIFY\n",
    "    \n",
    "document.add_page_break()\n",
    "\"\"\"\n",
    "p = document.add_paragraph('An introductory paragraph about EPFO and its functions')\n",
    "p.add_run(' Adding sentences. ').bold = True\n",
    "p.add_run(' Bold Sentences. ')\n",
    "p.add_run('Italic sentences.').italic = True\n",
    "\"\"\"\n",
    "#Page 2\n",
    "df_table_list= pd.read_csv(DATA_DIR+\"table_list.csv\")\n",
    "document.add_heading('Table List', level=1)\n",
    "document.add_paragraph('Pincode - Area Map', style='List Number')\n",
    "for x in df_table_list['title']:\n",
    "    document.add_paragraph(x, style='List Number')\n",
    "\n",
    "document.add_page_break()\n",
    "\n",
    "\"\"\"\n",
    "pin = document.add_picture(DATA_DIR+'pin.jpg', width=Inches(6.25))\n",
    "last_paragraph1 = document.paragraphs[-1] \n",
    "last_paragraph1.alignment = WD_ALIGN_PARAGRAPH.CENTER\n",
    "document.add_page_break()\n",
    "records = ((1, 'LDASR', 800),(2, 'PYKRP', 700),(3,'RJRAJ',500))\n",
    "\n",
    "table = document.add_table(rows=1, cols=3)\n",
    "hdr_cells = table.rows[0].cells\n",
    "hdr_cells[0].text = 'Sr'\n",
    "hdr_cells[1].text = 'Office Code'\n",
    "hdr_cells[2].text = 'Strength'\n",
    "table.style = \"Light Grid Accent 5\"\n",
    "for sr, code, count in records:\n",
    "    row_cells = table.add_row().cells\n",
    "    row_cells[0].text = str(sr)\n",
    "    row_cells[1].text = code\n",
    "    row_cells[2].text = str(count)\n",
    "    \n",
    "#document.add_page_break()\n",
    "\n",
    "document.save('demo2.docx')\n",
    "\n",
    "import win32com.client # install with \"pip install pywin32==224\"\n",
    "import docx, os\n",
    "\n",
    "wordFilename = 'demo2.docx'\n",
    "\n",
    "fulldocpath = DATA_DIR + wordFilename\n",
    "print(fulldocpath)\n",
    "pdfFilename = 'report.pdf'\n",
    "fullpdfpath = DATA_DIR + pdfFilename\"\"\"\n",
    "\n",
    "\n",
    "\"\"\"wdFormatPDF = 17 # Word's numeric code for PDFs.\n",
    "wordObj = win32com.client.Dispatch('Word.Application')\n",
    "docObj = wordObj.Documents.Open(fulldocpath)\n",
    "docObj.SaveAs(fullpdfpath, FileFormat=wdFormatPDF)\n",
    "docObj.Close()\n",
    "wordObj.Quit()\"\"\"\n"
   ]
  },
  {
   "cell_type": "code",
   "execution_count": 11,
   "id": "6cdede9d",
   "metadata": {},
   "outputs": [],
   "source": [
    "wordObj.Quit()"
   ]
  }
 ],
 "metadata": {
  "kernelspec": {
   "display_name": "Python 3 (ipykernel)",
   "language": "python",
   "name": "python3"
  },
  "language_info": {
   "codemirror_mode": {
    "name": "ipython",
    "version": 3
   },
   "file_extension": ".py",
   "mimetype": "text/x-python",
   "name": "python",
   "nbconvert_exporter": "python",
   "pygments_lexer": "ipython3",
   "version": "3.9.13"
  }
 },
 "nbformat": 4,
 "nbformat_minor": 5
}
